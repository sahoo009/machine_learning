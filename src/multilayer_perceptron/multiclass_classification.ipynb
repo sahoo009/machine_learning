{
 "cells": [
  {
   "cell_type": "code",
   "execution_count": 1,
   "id": "9bd35456",
   "metadata": {},
   "outputs": [],
   "source": [
    "from pandas import read_csv\n",
    "from sklearn.model_selection import train_test_split\n",
    "from sklearn.preprocessing import LabelEncoder\n",
    "from sklearn.model_selection import GridSearchCV\n",
    "from sklearn.model_selection import cross_val_score\n",
    "from keras.models import Sequential\n",
    "from keras.layers import Dense\n",
    "from keras.wrappers.scikit_learn import KerasClassifier"
   ]
  },
  {
   "cell_type": "code",
   "execution_count": 2,
   "id": "d2f0ed1a",
   "metadata": {},
   "outputs": [],
   "source": [
    "def load_data():\n",
    "    \n",
    "    # load the dataset\n",
    "    path = 'https://raw.githubusercontent.com/jbrownlee/Datasets/master/iris.csv'\n",
    "    df = read_csv(path, header=None)\n",
    "    \n",
    "    return df"
   ]
  },
  {
   "cell_type": "code",
   "execution_count": 3,
   "id": "d2539fd4",
   "metadata": {},
   "outputs": [],
   "source": [
    "def create_data_labels(df):\n",
    "    \n",
    "    # split into input and output columns\n",
    "    X, y = df.values[:, :-1], df.values[:, -1]\n",
    "    # ensure all data are floating point values\n",
    "    X = X.astype('float32')\n",
    "    # encode strings to integer\n",
    "    y = LabelEncoder().fit_transform(y)\n",
    "    \n",
    "    print('X.shape: {}'.format(X.shape))\n",
    "    return X, y"
   ]
  },
  {
   "cell_type": "code",
   "execution_count": 4,
   "id": "1d83f3c3",
   "metadata": {},
   "outputs": [],
   "source": [
    "def split_data(X, y):\n",
    "    \n",
    "    X_train, X_test, y_train, y_test = train_test_split(X, y, test_size=0.15)\n",
    "    return X_train, X_test, y_train, y_test"
   ]
  },
  {
   "cell_type": "code",
   "execution_count": 11,
   "id": "ed5e9950",
   "metadata": {},
   "outputs": [],
   "source": [
    "def create_model(optimizer = 'adam'):\n",
    "\n",
    "    # define model\n",
    "    model = Sequential()\n",
    "    model.add(Dense(10, activation = 'relu', kernel_initializer = 'he_normal', input_shape=(4,)))\n",
    "    model.add(Dense(8, activation = 'relu', kernel_initializer = 'he_normal'))\n",
    "    model.add(Dense(3, activation = 'softmax'))\n",
    "    \n",
    "    # compile the model\n",
    "    model.compile(optimizer = optimizer, loss = 'sparse_categorical_crossentropy', metrics = ['accuracy'])\n",
    "    \n",
    "    return model"
   ]
  },
  {
   "cell_type": "code",
   "execution_count": 12,
   "id": "50cc6a11",
   "metadata": {},
   "outputs": [],
   "source": [
    "def define_param_grid():\n",
    "    \n",
    "    # define the grid search parameters\n",
    "    batch_size = [10, 20, 40, 60]\n",
    "    epochs = [25, 50, 100, 150]\n",
    "    optimizers = ['sgd', 'adam']\n",
    "    param_grid = dict(batch_size=batch_size, epochs=epochs, optimizer=optimizers)\n",
    "    \n",
    "    return param_grid"
   ]
  },
  {
   "cell_type": "code",
   "execution_count": 13,
   "id": "e7a00e00",
   "metadata": {},
   "outputs": [],
   "source": [
    "def grid_search(model, param_grid, X_train, y_train):\n",
    "    \n",
    "    grid = GridSearchCV(estimator = model, param_grid = param_grid, n_jobs = -1, cv = 5)\n",
    "    grid_result = grid.fit(X_train, y_train)\n",
    "    \n",
    "    # summarize results\n",
    "    print('Best: %f using %s' % (grid_result.best_score_, grid_result.best_params_))\n",
    "    \n",
    "    best_batch_size = grid_result.best_params_['batch_size']\n",
    "    best_epochs = grid_result.best_params_['epochs']\n",
    "    best_opt = grid_result.best_params_['optimizer']\n",
    "    return best_batch_size, best_epochs, best_opt"
   ]
  },
  {
   "cell_type": "code",
   "execution_count": 14,
   "id": "321f5981",
   "metadata": {},
   "outputs": [],
   "source": [
    "def create_fit_best_model(batch_size, epochs, opt, X_train, y_train):\n",
    "    \n",
    "    model = create_model(optimizer = opt)\n",
    "    model.fit(X_train, y_train, epochs=epochs, batch_size=batch_size, verbose=0)\n",
    "    return model"
   ]
  },
  {
   "cell_type": "code",
   "execution_count": 15,
   "id": "9410a206",
   "metadata": {},
   "outputs": [],
   "source": [
    "def main():\n",
    "    \n",
    "    df = load_data()\n",
    "    X, y = create_data_labels(df)\n",
    "    X_train, X_test, y_train, y_test = split_data(X, y)\n",
    "    \n",
    "    model = KerasClassifier(build_fn=create_model, verbose=0)\n",
    "    param_grid = define_param_grid()\n",
    "    \n",
    "    # explore best parameters using GridSearch\n",
    "    batch_size, epochs, opt = grid_search(model, param_grid, X_train, y_train)\n",
    "    model = create_fit_best_model(batch_size, epochs, opt, X_train, y_train)\n",
    "    # evaluate the model\n",
    "    loss, acc = model.evaluate(X_test, y_test, verbose=0)\n",
    "    print('Accuracy on test data: %.3f' % acc)"
   ]
  },
  {
   "cell_type": "code",
   "execution_count": 16,
   "id": "b9e67915",
   "metadata": {},
   "outputs": [
    {
     "name": "stdout",
     "output_type": "stream",
     "text": [
      "X.shape: (150, 4)\n"
     ]
    },
    {
     "name": "stderr",
     "output_type": "stream",
     "text": [
      "<ipython-input-15-85a3d07243e2>:7: DeprecationWarning: KerasClassifier is deprecated, use Sci-Keras (https://github.com/adriangb/scikeras) instead.\n",
      "  model = KerasClassifier(build_fn=create_model, verbose=0)\n"
     ]
    },
    {
     "name": "stdout",
     "output_type": "stream",
     "text": [
      "Best: 0.945538 using {'batch_size': 20, 'epochs': 150, 'optimizer': 'adam'}\n",
      "Accuracy on test data: 0.913\n"
     ]
    }
   ],
   "source": [
    "if __name__ == '__main__':\n",
    "    main()"
   ]
  },
  {
   "cell_type": "code",
   "execution_count": null,
   "id": "ca62a067",
   "metadata": {},
   "outputs": [],
   "source": []
  }
 ],
 "metadata": {
  "kernelspec": {
   "display_name": "Python 3",
   "language": "python",
   "name": "python3"
  },
  "language_info": {
   "codemirror_mode": {
    "name": "ipython",
    "version": 3
   },
   "file_extension": ".py",
   "mimetype": "text/x-python",
   "name": "python",
   "nbconvert_exporter": "python",
   "pygments_lexer": "ipython3",
   "version": "3.9.7"
  }
 },
 "nbformat": 4,
 "nbformat_minor": 5
}
